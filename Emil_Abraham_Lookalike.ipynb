{
 "cells": [
  {
   "cell_type": "code",
   "execution_count": 8,
   "metadata": {},
   "outputs": [
    {
     "name": "stdout",
     "output_type": "stream",
     "text": [
      "Lookalike recommendations saved to 'Lookalike.csv'.\n"
     ]
    }
   ],
   "source": [
    "import pandas as pd\n",
    "from sklearn.metrics.pairwise import cosine_similarity\n",
    "from sklearn.preprocessing import StandardScaler\n",
    "import numpy as np\n",
    "\n",
    "# Load the data\n",
    "customers_df = pd.read_csv(\"Customers.csv\")\n",
    "transactions_df = pd.read_csv(\"Transactions.csv\")\n",
    "\n",
    "# 1. Merge customer data and transaction history\n",
    "# Group the transactions by CustomerID and aggregate the necessary metrics.\n",
    "customer_transactions = transactions_df.groupby('CustomerID').agg({\n",
    "    'Quantity': 'sum',  # total quantity purchased\n",
    "    'TotalValue': 'sum',  # total spend\n",
    "}).reset_index()\n",
    "\n",
    "# Merge with customer data\n",
    "customer_profile = pd.merge(customers_df[['CustomerID', 'Region']], customer_transactions, on='CustomerID', how='left')\n",
    "\n",
    "# 2. Create a customer feature matrix based on 'Region' and transaction data\n",
    "# For region-based similarity, we'll encode 'Region' using one-hot encoding.\n",
    "region_dummies = pd.get_dummies(customer_profile['Region'], prefix='Region')\n",
    "\n",
    "# Combine customer profile with transaction data\n",
    "features_df = pd.concat([customer_profile[['CustomerID', 'Quantity', 'TotalValue']], region_dummies], axis=1)\n",
    "\n",
    "# 3. Handle missing values by filling NaNs with 0\n",
    "features_df = features_df.fillna(0)\n",
    "\n",
    "# 4. Normalize the numerical features (Quantity, TotalValue)\n",
    "scaler = StandardScaler()\n",
    "features_df[['Quantity', 'TotalValue']] = scaler.fit_transform(features_df[['Quantity', 'TotalValue']])\n",
    "\n",
    "# 5. Calculate the cosine similarity between all customers\n",
    "cosine_sim = cosine_similarity(features_df.drop(columns=['CustomerID']))\n",
    "\n",
    "# 6. Generate the lookalike recommendations for customers with IDs C0001 to C0020\n",
    "lookalike_recommendations = {}\n",
    "for idx, row in features_df.iterrows():\n",
    "    customer_id = row['CustomerID']\n",
    "    \n",
    "    # Only consider the first 20 customers\n",
    "    if customer_id >= 'C0001' and customer_id <= 'C0020':\n",
    "        similarity_scores = cosine_sim[idx]\n",
    "        \n",
    "        # Exclude the current customer from their own similarity score\n",
    "        similarity_scores[idx] = -1  # Set their own similarity score to a very low value\n",
    "\n",
    "        # Get top 3 most similar customers\n",
    "        top_3_indices = np.argsort(similarity_scores)[-3:][::-1]\n",
    "        top_3_customers = [(features_df.iloc[i]['CustomerID'], similarity_scores[i]) for i in top_3_indices]\n",
    "        \n",
    "        lookalike_recommendations[customer_id] = top_3_customers\n",
    "\n",
    "# 7. Save the recommendations to a CSV file in the required map format\n",
    "lookalike_data = []\n",
    "for customer_id, recommendations in lookalike_recommendations.items():\n",
    "    for recommended_customer, score in recommendations:\n",
    "        lookalike_data.append([customer_id, recommended_customer, score])\n",
    "\n",
    "# Convert to DataFrame and save as 'Lookalike.csv'\n",
    "lookalike_df = pd.DataFrame(lookalike_data, columns=['CustomerID', 'RecommendedCustomerID', 'SimilarityScore'])\n",
    "lookalike_df.to_csv('Lookalike.csv', index=False)\n",
    "\n",
    "print(\"Lookalike recommendations saved to 'Lookalike.csv'.\")\n"
   ]
  }
 ],
 "metadata": {
  "kernelspec": {
   "display_name": "base",
   "language": "python",
   "name": "python3"
  },
  "language_info": {
   "codemirror_mode": {
    "name": "ipython",
    "version": 3
   },
   "file_extension": ".py",
   "mimetype": "text/x-python",
   "name": "python",
   "nbconvert_exporter": "python",
   "pygments_lexer": "ipython3",
   "version": "3.12.3"
  }
 },
 "nbformat": 4,
 "nbformat_minor": 2
}
